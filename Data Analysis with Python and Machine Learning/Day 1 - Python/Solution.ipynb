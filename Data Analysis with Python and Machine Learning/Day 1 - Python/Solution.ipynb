{
 "cells": [
  {
   "cell_type": "markdown",
   "source": [
    "# Table of Contents\r\n",
    "\r\n",
    "- [Задание - 1](#task-1)\r\n",
    "- [Задание - 2](#task-2)\r\n",
    "- [Задание - 3](#task-3)\r\n",
    "- [Задание - 4](#task-4)\r\n",
    "- [Задание - 5](#task-5)\r\n",
    "- [Задание - 6](#task-6)\r\n",
    "- [Задание - 7](#task-7)\r\n",
    "- [Задание - 8](#task-8)"
   ],
   "metadata": {}
  },
  {
   "cell_type": "markdown",
   "source": [
    "<a id=\"task-1\"></a>\r\n",
    "# Задание - 1"
   ],
   "metadata": {}
  },
  {
   "cell_type": "code",
   "execution_count": 5,
   "source": [
    "def head(file_name, n=5):\r\n",
    "    file = open(file_name)\r\n",
    "    text = file.readlines()\r\n",
    "    file.close()\r\n",
    "\r\n",
    "    return text[:n]\r\n",
    "\r\n",
    "\r\n",
    "result = head(\"files/text.txt\", 2)\r\n",
    "print(result)\r\n",
    "\r\n",
    "result = head(\"files/text.txt\", 20)\r\n",
    "print(result)\r\n"
   ],
   "outputs": [
    {
     "output_type": "stream",
     "name": "stdout",
     "text": [
      "['Humpty Dumpty sat on a wall,\\n', 'Humpty Dumpty had a great fall.\\n']\n",
      "['Humpty Dumpty sat on a wall,\\n', 'Humpty Dumpty had a great fall.\\n', \"All the king's horses,\\n\", \"And all the king's men,\\n\", \"Couldn't put Humpty together again.\"]\n"
     ]
    }
   ],
   "metadata": {}
  },
  {
   "cell_type": "markdown",
   "source": [
    "<a id=\"task-2\"></a>\r\n",
    "# Задание - 2"
   ],
   "metadata": {}
  },
  {
   "cell_type": "code",
   "execution_count": 6,
   "source": [
    "def tail(file_name, n=2):\r\n",
    "    file = open(file_name)\r\n",
    "    text = file.readlines()\r\n",
    "    file.close()\r\n",
    "\r\n",
    "    return text[-n:]\r\n",
    "\r\n",
    "\r\n",
    "result = tail(\"files/text.txt\", 1)\r\n",
    "print(result)\r\n",
    "\r\n",
    "result = tail(\"files/text.txt\", 3)\r\n",
    "print(result)\r\n",
    "\r\n",
    "result = tail(\"files/text.txt\", 10)\r\n",
    "print(result)\r\n"
   ],
   "outputs": [
    {
     "output_type": "stream",
     "name": "stdout",
     "text": [
      "[\"Couldn't put Humpty together again.\"]\n",
      "[\"All the king's horses,\\n\", \"And all the king's men,\\n\", \"Couldn't put Humpty together again.\"]\n",
      "['Humpty Dumpty sat on a wall,\\n', 'Humpty Dumpty had a great fall.\\n', \"All the king's horses,\\n\", \"And all the king's men,\\n\", \"Couldn't put Humpty together again.\"]\n"
     ]
    }
   ],
   "metadata": {}
  },
  {
   "cell_type": "markdown",
   "source": [
    "<a id=\"task-3\"></a>\r\n",
    "# Задание - 3"
   ],
   "metadata": {}
  },
  {
   "cell_type": "code",
   "execution_count": 9,
   "source": [
    "def wc1(file_name):\r\n",
    "    file = open(file_name)\r\n",
    "    text = file.read()\r\n",
    "    file.close()\r\n",
    "\r\n",
    "    lines_count = len(text.split(\"\\n\"))\r\n",
    "    words_count = len(text.split())\r\n",
    "    chars_count = len(text)\r\n",
    "\r\n",
    "    return lines_count, words_count, chars_count\r\n",
    "\r\n",
    "\r\n",
    "result = wc1(\"files/text.txt\")\r\n",
    "print(result)\r\n"
   ],
   "outputs": [
    {
     "output_type": "stream",
     "name": "stdout",
     "text": [
      "(5, 26, 143)\n"
     ]
    }
   ],
   "metadata": {}
  },
  {
   "cell_type": "markdown",
   "source": [
    "<a id=\"task-4\"></a>\r\n",
    "# Задание - 4"
   ],
   "metadata": {}
  },
  {
   "cell_type": "code",
   "execution_count": 10,
   "source": [
    "def cleanup(text, bad_chars):\r\n",
    "    for bad_char in bad_chars:\r\n",
    "        text = text.replace(bad_char, '')\r\n",
    "    return text\r\n",
    "\r\n",
    "\r\n",
    "result = cleanup('hello,\\tworld!\\n', '\\n \\t ')\r\n",
    "print(result)\r\n",
    "\r\n",
    "result = cleanup('dict([(1, \"one\"), (2, \"two\")])', '(\", \")')\r\n",
    "print(result)\r\n"
   ],
   "outputs": [
    {
     "output_type": "stream",
     "name": "stdout",
     "text": [
      "hello,world!\n",
      "dict[1one2two]\n"
     ]
    }
   ],
   "metadata": {}
  },
  {
   "cell_type": "markdown",
   "source": [
    "<a id=\"task-5\"></a>\r\n",
    "# Задание - 5"
   ],
   "metadata": {}
  },
  {
   "cell_type": "code",
   "execution_count": 11,
   "source": [
    "def wc2(file_name):\r\n",
    "    file = open(file_name)\r\n",
    "    text = file.read()\r\n",
    "    file.close()\r\n",
    "\r\n",
    "    lines_count = len(text.split(\"\\n\"))\r\n",
    "    words_count = len(text.split())\r\n",
    "    chars_count = 0\r\n",
    "\r\n",
    "    for char in text:\r\n",
    "        if char != \"\\n\" and char != \"\\t\" and char != \" \":\r\n",
    "            chars_count += 1\r\n",
    "\r\n",
    "    return lines_count, words_count, chars_count\r\n",
    "\r\n",
    "\r\n",
    "result = wc2(\"files/text.txt\")\r\n",
    "print(result)"
   ],
   "outputs": [
    {
     "output_type": "stream",
     "name": "stdout",
     "text": [
      "(5, 26, 118)\n"
     ]
    }
   ],
   "metadata": {}
  },
  {
   "cell_type": "markdown",
   "source": [
    "<a id=\"task-6\"></a>\r\n",
    "# Задание - 6"
   ],
   "metadata": {}
  },
  {
   "cell_type": "code",
   "execution_count": 12,
   "source": [
    "def cleanup(text, bad_chars):\r\n",
    "    for bad_char in bad_chars:\r\n",
    "        text = text.replace(bad_char, '')\r\n",
    "    return text\r\n",
    "\r\n",
    "\r\n",
    "def wc3(file_name):\r\n",
    "    file = open(file_name)\r\n",
    "    text = file.read()\r\n",
    "    file.close()\r\n",
    "\r\n",
    "    text = text.lower()\r\n",
    "    text = cleanup(text, ['can\\'t', 'ain\\'t', '\\'m', '\\'ve', '\\'ll', '\\'d', '\\'re', '\\'ve', '\\'s', 'n\\'t'])\r\n",
    "    text = cleanup(text, '~`!@#$%^&*()[]{}_-+=;:\\'\"\\\\|,<.>/?')\r\n",
    "\r\n",
    "    words = text.split()\r\n",
    "\r\n",
    "    d = dict().fromkeys(words, 0)\r\n",
    "    for word in words:\r\n",
    "        d[word] += 1\r\n",
    "\r\n",
    "    return d\r\n",
    "\r\n",
    "\r\n",
    "result = wc3(\"files/text.txt\")\r\n",
    "print(result)\r\n",
    "\r\n",
    "result = wc3(\"files/text2.txt\")\r\n",
    "print(result)\r\n"
   ],
   "outputs": [
    {
     "output_type": "stream",
     "name": "stdout",
     "text": [
      "{'humpty': 3, 'dumpty': 2, 'sat': 1, 'on': 1, 'a': 2, 'wall': 1, 'had': 1, 'great': 1, 'fall': 1, 'all': 2, 'the': 2, 'king': 2, 'horses': 1, 'and': 1, 'men': 1, 'could': 1, 'put': 1, 'together': 1, 'again': 1}\n",
      "{'eagles': 1, 'hotel': 5, 'california': 5, 'on': 3, 'a': 12, 'dark': 1, 'desert': 1, 'highway': 1, 'cool': 1, 'wind': 1, 'in': 6, 'my': 5, 'hair': 1, 'warm': 1, 'smell': 1, 'of': 7, 'colitas': 1, 'rising': 1, 'up': 6, 'through': 1, 'the': 25, 'air': 1, 'ahead': 1, 'distance': 1, 'i': 11, 'saw': 1, 'shimmering': 1, 'light': 1, 'head': 1, 'grew': 2, 'heavy': 1, 'and': 6, 'sight': 1, 'dim': 1, 'had': 3, 'to': 10, 'stop': 1, 'for': 3, 'night': 2, 'there': 2, 'she': 7, 'stood': 1, 'doorway': 1, 'heard': 2, 'mission': 1, 'bell': 1, 'was': 3, 'thinking': 1, 'self': 1, 'this': 2, 'could': 2, 'be': 2, 'heaven': 1, 'or': 1, 'hell': 1, 'then': 1, 'lit': 1, 'candle': 1, 'showed': 1, 'me': 2, 'way': 1, 'were': 1, 'voices': 2, 'down': 1, 'corridor': 1, 'thought': 1, 'them': 2, 'say': 2, 'welcome': 2, 'such': 6, 'lovely': 6, 'place': 5, 'face': 2, 'plenty': 1, 'room': 1, 'at': 2, 'any': 3, 'time': 3, 'year': 2, 'you': 6, 'can': 3, 'find': 2, 'it': 2, 'here': 3, 'her': 1, 'mind': 1, 'is': 1, 'tiffany': 1, 'twisted': 1, 'got': 2, 'mersedes': 1, 'benz': 1, 'lot': 1, 'pretty': 2, 'boys': 1, 'calls': 1, 'friends': 1, 'how': 1, 'they': 5, 'dance': 3, 'courtyard': 1, 'sweet': 1, 'summer': 1, 'sweat': 1, 'some': 2, 'remember': 2, 'forget': 1, 'so': 1, 'called': 1, 'captain': 1, 'please': 1, 'bring': 2, 'wine': 1, 'he': 1, 'said': 3, 'we': 3, 'have': 1, 'that': 1, 'spirit': 1, 'since': 1, 'nineteen': 1, 'sixty': 1, 'nine': 1, 'still': 1, 'those': 1, 'are': 3, 'calling': 1, 'from': 1, 'far': 1, 'away': 1, 'wake': 1, 'middle': 1, 'just': 3, 'hear': 1, 'living': 1, 'what': 2, 'nice': 2, 'surprise': 2, 'alibis': 1, 'mirrors': 1, 'ceiling': 1, 'pink': 1, 'champagne': 1, 'ice': 1, 'all': 1, 'prisoners': 1, 'our': 1, 'own': 1, 'device': 1, 'masters': 1, 'chambers': 1, 'gathered': 1, 'feast': 1, 'stabbed': 1, 'with': 1, 'their': 1, 'steely': 1, 'knives': 1, 'but': 2, 'kill': 1, 'beast': 1, 'last': 1, 'thing': 1, 'running': 1, 'door': 1, 'passage': 1, 'back': 1, 'before': 1, 'relax': 1, 'nightman': 1, 'programmed': 1, 'receive': 1, 'check': 1, 'out': 1, 'like': 1, 'never': 1, 'leave': 1}\n"
     ]
    }
   ],
   "metadata": {}
  },
  {
   "cell_type": "markdown",
   "source": [
    "<a id=\"task-7\"></a>\r\n",
    "# Задание - 7"
   ],
   "metadata": {}
  },
  {
   "cell_type": "code",
   "execution_count": 8,
   "source": [
    "def cleanup(text, bad_chars):\r\n",
    "    for bad_char in bad_chars:\r\n",
    "        text = text.replace(bad_char, '')\r\n",
    "    return text\r\n",
    "\r\n",
    "\r\n",
    "def wc4(file_name):\r\n",
    "    file = open(file_name)\r\n",
    "    text = file.read()\r\n",
    "    file.close()\r\n",
    "\r\n",
    "    file = open('files/stopwords.txt')\r\n",
    "    stopwords = file.read().split()\r\n",
    "    file.close()\r\n",
    "\r\n",
    "    text = text.lower()\r\n",
    "    text = cleanup(text, ['can\\'t', 'ain\\'t', '\\'m', '\\'ve', '\\'ll', '\\'d', '\\'re', '\\'ve', '\\'s', 'n\\'t'])\r\n",
    "    text = cleanup(text, '~`!@#$%^&*()[]{}_-+=;:\\'\"\\\\|,<.>/?')\r\n",
    "\r\n",
    "    words = text.split()\r\n",
    "    words = [value for value in words if value not in stopwords]\r\n",
    "\r\n",
    "    d = dict().fromkeys(words, 0)\r\n",
    "    for word in words:\r\n",
    "        d[word] += 1\r\n",
    "\r\n",
    "    return d\r\n",
    "\r\n",
    "\r\n",
    "result = wc4(\"files/text.txt\")\r\n",
    "print(result)\r\n",
    "\r\n",
    "result = wc4(\"files/text2.txt\")\r\n",
    "print(result)\r\n"
   ],
   "outputs": [
    {
     "output_type": "stream",
     "name": "stdout",
     "text": [
      "{'humpty': 3, 'dumpty': 2, 'sat': 1, 'wall': 1, 'had': 1, 'great': 1, 'fall': 1, 'king': 2, 'horses': 1, 'men': 1, 'could': 1, 'put': 1, 'together': 1, 'again': 1}\n",
      "{'eagles': 1, 'hotel': 5, 'california': 5, 'dark': 1, 'desert': 1, 'highway': 1, 'cool': 1, 'wind': 1, 'hair': 1, 'warm': 1, 'smell': 1, 'colitas': 1, 'rising': 1, 'up': 6, 'air': 1, 'ahead': 1, 'distance': 1, 'saw': 1, 'shimmering': 1, 'light': 1, 'head': 1, 'grew': 2, 'heavy': 1, 'sight': 1, 'dim': 1, 'had': 3, 'stop': 1, 'night': 2, 'stood': 1, 'doorway': 1, 'heard': 2, 'mission': 1, 'bell': 1, 'thinking': 1, 'self': 1, 'could': 2, 'heaven': 1, 'hell': 1, 'then': 1, 'lit': 1, 'candle': 1, 'showed': 1, 'way': 1, 'voices': 2, 'corridor': 1, 'thought': 1, 'say': 2, 'welcome': 2, 'lovely': 6, 'place': 5, 'face': 2, 'plenty': 1, 'room': 1, 'year': 2, 'can': 3, 'find': 2, 'here': 3, 'mind': 1, 'tiffany': 1, 'twisted': 1, 'got': 2, 'mersedes': 1, 'benz': 1, 'lot': 1, 'pretty': 2, 'boys': 1, 'calls': 1, 'friends': 1, 'dance': 3, 'courtyard': 1, 'sweet': 1, 'summer': 1, 'sweat': 1, 'remember': 2, 'forget': 1, 'called': 1, 'captain': 1, 'please': 1, 'bring': 2, 'wine': 1, 'said': 3, 'have': 1, 'spirit': 1, 'nineteen': 1, 'sixty': 1, 'nine': 1, 'still': 1, 'calling': 1, 'away': 1, 'wake': 1, 'middle': 1, 'just': 3, 'hear': 1, 'living': 1, 'nice': 2, 'surprise': 2, 'alibis': 1, 'mirrors': 1, 'ceiling': 1, 'pink': 1, 'champagne': 1, 'ice': 1, 'prisoners': 1, 'own': 1, 'device': 1, 'masters': 1, 'chambers': 1, 'gathered': 1, 'feast': 1, 'stabbed': 1, 'steely': 1, 'knives': 1, 'kill': 1, 'beast': 1, 'last': 1, 'thing': 1, 'running': 1, 'door': 1, 'passage': 1, 'back': 1, 'relax': 1, 'nightman': 1, 'programmed': 1, 'receive': 1, 'check': 1, 'out': 1, 'like': 1, 'never': 1, 'leave': 1}\n"
     ]
    }
   ],
   "metadata": {}
  },
  {
   "cell_type": "markdown",
   "source": [
    "<a id=\"task-8\"></a>\r\n",
    "# Задание - 8"
   ],
   "metadata": {}
  },
  {
   "cell_type": "code",
   "execution_count": 7,
   "source": [
    "def cleanup(text, bad_chars):\r\n",
    "    for bad_char in bad_chars:\r\n",
    "        text = text.replace(bad_char, '')\r\n",
    "    return text\r\n",
    "\r\n",
    "\r\n",
    "def wc4(file_name):\r\n",
    "    file = open(file_name)\r\n",
    "    text = file.read()\r\n",
    "    file.close()\r\n",
    "\r\n",
    "    file = open('files/stopwords.txt')\r\n",
    "    stopwords = file.read().split()\r\n",
    "    file.close()\r\n",
    "\r\n",
    "    text = text.lower()\r\n",
    "    text = cleanup(text, ['can\\'t', 'ain\\'t', '\\'m', '\\'ve', '\\'ll', '\\'d', '\\'re', '\\'ve', '\\'s', 'n\\'t'])\r\n",
    "    text = cleanup(text, '~`!@#$%^&*()[]{}_-+=;:\\'\"\\\\|,<.>/?')\r\n",
    "\r\n",
    "    words = text.split()\r\n",
    "    words = [value for value in words if value not in stopwords]\r\n",
    "\r\n",
    "    d = dict().fromkeys(words, 0)\r\n",
    "    for word in words:\r\n",
    "        d[word] += 1\r\n",
    "\r\n",
    "    return d\r\n",
    "\r\n",
    "\r\n",
    "def top_words1(file_name, n=5):\r\n",
    "    d = wc4(file_name)\r\n",
    "\r\n",
    "    words = [(key, value) for key, value in d.items()]\r\n",
    "    words.sort(key=lambda x: x[1], reverse=True)\r\n",
    "\r\n",
    "    return words[:n]\r\n",
    "\r\n",
    "\r\n",
    "result = top_words1(\"files/text.txt\")\r\n",
    "print(result)\r\n",
    "\r\n",
    "result = top_words1(\"files/text2.txt\", 10)\r\n",
    "print(result)\r\n"
   ],
   "outputs": [
    {
     "output_type": "stream",
     "name": "stdout",
     "text": [
      "[('humpty', 3), ('dumpty', 2), ('king', 2), ('sat', 1), ('wall', 1)]\n",
      "[('up', 6), ('lovely', 6), ('hotel', 5), ('california', 5), ('place', 5), ('had', 3), ('can', 3), ('here', 3), ('dance', 3), ('said', 3)]\n"
     ]
    }
   ],
   "metadata": {}
  }
 ],
 "metadata": {
  "orig_nbformat": 4,
  "language_info": {
   "name": "python",
   "version": "3.9.7",
   "mimetype": "text/x-python",
   "codemirror_mode": {
    "name": "ipython",
    "version": 3
   },
   "pygments_lexer": "ipython3",
   "nbconvert_exporter": "python",
   "file_extension": ".py"
  },
  "kernelspec": {
   "name": "python3",
   "display_name": "Python 3.9.7 64-bit"
  },
  "interpreter": {
   "hash": "ef1233633e4834bf6cf9e56e3dc8d49e49125df3a6a6abe0c56c624c5b33942a"
  }
 },
 "nbformat": 4,
 "nbformat_minor": 2
}