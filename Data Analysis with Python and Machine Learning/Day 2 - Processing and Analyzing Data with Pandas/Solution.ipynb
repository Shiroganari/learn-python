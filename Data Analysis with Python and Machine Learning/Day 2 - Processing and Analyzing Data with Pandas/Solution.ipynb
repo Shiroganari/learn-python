{
 "cells": [
  {
   "cell_type": "code",
   "execution_count": 10,
   "source": [
    "import numpy as np\r\n",
    "import pandas as pd\r\n",
    "\r\n",
    "df = pd.read_csv('data/athlete_events.csv')"
   ],
   "outputs": [],
   "metadata": {}
  },
  {
   "cell_type": "markdown",
   "source": [
    "# 1. How old were the youngest male and female participants of the 1996 Olympics?"
   ],
   "metadata": {}
  },
  {
   "cell_type": "code",
   "execution_count": 11,
   "source": [
    "youngest_male = df[(df['Year'] == 1996) & (df['Sex'] == 'M')]['Age'].min()\r\n",
    "youngest_female = df[(df['Year'] == 1996) & (df['Sex'] == 'F')]['Age'].min()\r\n",
    "print('The youngest female: ', youngest_female)\r\n",
    "print('The youngest male: ', youngest_male)"
   ],
   "outputs": [
    {
     "output_type": "stream",
     "name": "stdout",
     "text": [
      "The youngest female:  11.0\n",
      "The youngest male:  14.0\n"
     ]
    }
   ],
   "metadata": {}
  },
  {
   "cell_type": "markdown",
   "source": [
    "# 2. What was the percentage of male gymnasts among all the male participants of the 2000 Olympics? Round the answer to the first decimal."
   ],
   "metadata": {}
  },
  {
   "cell_type": "code",
   "execution_count": null,
   "source": [],
   "outputs": [],
   "metadata": {}
  },
  {
   "cell_type": "markdown",
   "source": [
    "# 3. What are the mean and standard deviation of height for female basketball players participated in the 2000 Olympics? Round the answer to the first decimal."
   ],
   "metadata": {}
  },
  {
   "cell_type": "code",
   "execution_count": 9,
   "source": [
    "df[(df['Sex'] == 'F') & (df['Sport'] == 'Basketball') & (df['Year'] == 2000)].describe()"
   ],
   "outputs": [
    {
     "output_type": "execute_result",
     "data": {
      "text/html": [
       "<div>\n",
       "<style scoped>\n",
       "    .dataframe tbody tr th:only-of-type {\n",
       "        vertical-align: middle;\n",
       "    }\n",
       "\n",
       "    .dataframe tbody tr th {\n",
       "        vertical-align: top;\n",
       "    }\n",
       "\n",
       "    .dataframe thead th {\n",
       "        text-align: right;\n",
       "    }\n",
       "</style>\n",
       "<table border=\"1\" class=\"dataframe\">\n",
       "  <thead>\n",
       "    <tr style=\"text-align: right;\">\n",
       "      <th></th>\n",
       "      <th>ID</th>\n",
       "      <th>Age</th>\n",
       "      <th>Height</th>\n",
       "      <th>Weight</th>\n",
       "      <th>Year</th>\n",
       "    </tr>\n",
       "  </thead>\n",
       "  <tbody>\n",
       "    <tr>\n",
       "      <th>count</th>\n",
       "      <td>142.000000</td>\n",
       "      <td>142.000000</td>\n",
       "      <td>142.000000</td>\n",
       "      <td>142.000000</td>\n",
       "      <td>142.0</td>\n",
       "    </tr>\n",
       "    <tr>\n",
       "      <th>mean</th>\n",
       "      <td>65981.295775</td>\n",
       "      <td>26.690141</td>\n",
       "      <td>182.387324</td>\n",
       "      <td>73.464789</td>\n",
       "      <td>2000.0</td>\n",
       "    </tr>\n",
       "    <tr>\n",
       "      <th>std</th>\n",
       "      <td>38666.204358</td>\n",
       "      <td>4.185729</td>\n",
       "      <td>9.139462</td>\n",
       "      <td>9.002491</td>\n",
       "      <td>0.0</td>\n",
       "    </tr>\n",
       "    <tr>\n",
       "      <th>min</th>\n",
       "      <td>580.000000</td>\n",
       "      <td>17.000000</td>\n",
       "      <td>162.000000</td>\n",
       "      <td>58.000000</td>\n",
       "      <td>2000.0</td>\n",
       "    </tr>\n",
       "    <tr>\n",
       "      <th>25%</th>\n",
       "      <td>33914.250000</td>\n",
       "      <td>24.000000</td>\n",
       "      <td>175.000000</td>\n",
       "      <td>67.000000</td>\n",
       "      <td>2000.0</td>\n",
       "    </tr>\n",
       "    <tr>\n",
       "      <th>50%</th>\n",
       "      <td>64471.500000</td>\n",
       "      <td>27.000000</td>\n",
       "      <td>182.000000</td>\n",
       "      <td>73.000000</td>\n",
       "      <td>2000.0</td>\n",
       "    </tr>\n",
       "    <tr>\n",
       "      <th>75%</th>\n",
       "      <td>96557.000000</td>\n",
       "      <td>30.000000</td>\n",
       "      <td>190.000000</td>\n",
       "      <td>80.000000</td>\n",
       "      <td>2000.0</td>\n",
       "    </tr>\n",
       "    <tr>\n",
       "      <th>max</th>\n",
       "      <td>135105.000000</td>\n",
       "      <td>37.000000</td>\n",
       "      <td>213.000000</td>\n",
       "      <td>100.000000</td>\n",
       "      <td>2000.0</td>\n",
       "    </tr>\n",
       "  </tbody>\n",
       "</table>\n",
       "</div>"
      ],
      "text/plain": [
       "                  ID         Age      Height      Weight    Year\n",
       "count     142.000000  142.000000  142.000000  142.000000   142.0\n",
       "mean    65981.295775   26.690141  182.387324   73.464789  2000.0\n",
       "std     38666.204358    4.185729    9.139462    9.002491     0.0\n",
       "min       580.000000   17.000000  162.000000   58.000000  2000.0\n",
       "25%     33914.250000   24.000000  175.000000   67.000000  2000.0\n",
       "50%     64471.500000   27.000000  182.000000   73.000000  2000.0\n",
       "75%     96557.000000   30.000000  190.000000   80.000000  2000.0\n",
       "max    135105.000000   37.000000  213.000000  100.000000  2000.0"
      ]
     },
     "metadata": {},
     "execution_count": 9
    }
   ],
   "metadata": {}
  },
  {
   "cell_type": "markdown",
   "source": [
    "# 4. Find a sportsperson participated in the 2002 Olympics, with the highest weight among other participants of the same Olympics. What sport did he or she do?"
   ],
   "metadata": {}
  },
  {
   "cell_type": "code",
   "execution_count": 8,
   "source": [
    "max_weight = df[df['Year'] == 2002]['Weight'].max()\r\n",
    "df[(df['Weight'] == max_weight) & (df['Year'] == 2002)]['Sport']"
   ],
   "outputs": [
    {
     "output_type": "execute_result",
     "data": {
      "text/plain": [
       "99154    Bobsleigh\n",
       "Name: Sport, dtype: object"
      ]
     },
     "metadata": {},
     "execution_count": 8
    }
   ],
   "metadata": {}
  },
  {
   "cell_type": "markdown",
   "source": [
    "# 5. How many times did Pawe Abratkiewicz participate in the Olympics held in different years?"
   ],
   "metadata": {}
  },
  {
   "cell_type": "code",
   "execution_count": 7,
   "source": [
    "len(df[df['Name'] == 'Pawe Abratkiewicz']['Year'].unique())"
   ],
   "outputs": [
    {
     "output_type": "execute_result",
     "data": {
      "text/plain": [
       "3"
      ]
     },
     "metadata": {},
     "execution_count": 7
    }
   ],
   "metadata": {}
  },
  {
   "cell_type": "markdown",
   "source": [
    "# 6. How many silver medals in tennis did Australia win at the 2000 Olympics?"
   ],
   "metadata": {}
  },
  {
   "cell_type": "code",
   "execution_count": 12,
   "source": [
    "df[(df['Team'] == 'Australia') & (df['Medal'] == 'Silver') & (df['Year'] == 2000) & (df['Sport'] == 'Tennis')]['Medal'].count()"
   ],
   "outputs": [
    {
     "output_type": "execute_result",
     "data": {
      "text/plain": [
       "2"
      ]
     },
     "metadata": {},
     "execution_count": 12
    }
   ],
   "metadata": {}
  },
  {
   "cell_type": "markdown",
   "source": [
    "# 7. Is it true that Switzerland won fewer medals than Serbia at the 2016 Olympics? Do not consider NaN values in _Medal_ column."
   ],
   "metadata": {}
  },
  {
   "cell_type": "code",
   "execution_count": 13,
   "source": [
    "switz_medals = df[(df['Team'] == 'Switzerland') & (df['Year'] == 2016) & (df['Medal'].notnull())].count()\r\n",
    "serbia_medals = df[(df['Team'] == 'Serbia') & (df['Year'] == 2016) & (df['Medal'].notnull())].count()\r\n",
    "\r\n",
    "switz_medals < serbia_medals"
   ],
   "outputs": [
    {
     "output_type": "execute_result",
     "data": {
      "text/plain": [
       "ID        True\n",
       "Name      True\n",
       "Sex       True\n",
       "Age       True\n",
       "Height    True\n",
       "Weight    True\n",
       "Team      True\n",
       "NOC       True\n",
       "Games     True\n",
       "Year      True\n",
       "Season    True\n",
       "City      True\n",
       "Sport     True\n",
       "Event     True\n",
       "Medal     True\n",
       "dtype: bool"
      ]
     },
     "metadata": {},
     "execution_count": 13
    }
   ],
   "metadata": {}
  },
  {
   "cell_type": "markdown",
   "source": [
    "# 8. What age category did the fewest and the most participants of the 2014 Olympics belong to?"
   ],
   "metadata": {}
  },
  {
   "cell_type": "code",
   "execution_count": 14,
   "source": [
    "df[df['Year'] == 2014]['Age'].value_counts()"
   ],
   "outputs": [
    {
     "output_type": "execute_result",
     "data": {
      "text/plain": [
       "24.0    420\n",
       "23.0    396\n",
       "25.0    395\n",
       "26.0    384\n",
       "28.0    376\n",
       "27.0    363\n",
       "22.0    361\n",
       "29.0    282\n",
       "21.0    280\n",
       "30.0    242\n",
       "20.0    206\n",
       "31.0    201\n",
       "19.0    142\n",
       "32.0    142\n",
       "33.0    135\n",
       "18.0    130\n",
       "35.0     82\n",
       "34.0     74\n",
       "36.0     70\n",
       "17.0     58\n",
       "37.0     30\n",
       "38.0     25\n",
       "16.0     24\n",
       "40.0     18\n",
       "39.0     14\n",
       "41.0     14\n",
       "15.0     10\n",
       "42.0      6\n",
       "43.0      3\n",
       "44.0      3\n",
       "47.0      1\n",
       "48.0      1\n",
       "45.0      1\n",
       "55.0      1\n",
       "46.0      1\n",
       "Name: Age, dtype: int64"
      ]
     },
     "metadata": {},
     "execution_count": 14
    }
   ],
   "metadata": {}
  },
  {
   "cell_type": "markdown",
   "source": [
    "# 9. Is it true that there were Summer Olympics held in Lake Placid? Is it true that there were Winter Olympics held in Sankt Moritz?"
   ],
   "metadata": {}
  },
  {
   "cell_type": "code",
   "execution_count": 15,
   "source": [
    "if (len(df[(df['Season'] == 'Summer') & (df['City'] == 'Lake Placid')])):\r\n",
    "    print(\"True\")\r\n",
    "else:\r\n",
    "    print(\"False\")\r\n",
    "\r\n",
    "if (len([(df['Season'] == 'Winter') & (df['City'] == 'Sankt Moritz')])):\r\n",
    "    print(\"True\")\r\n",
    "else:\r\n",
    "    print(\"False\")\r\n",
    "\r\n"
   ],
   "outputs": [
    {
     "output_type": "stream",
     "name": "stdout",
     "text": [
      "False\n",
      "True\n"
     ]
    }
   ],
   "metadata": {}
  },
  {
   "cell_type": "markdown",
   "source": [
    "# 10. What is the absolute difference between the number of unique sports at the 1995 Olympics and 2016 Olympics?"
   ],
   "metadata": {}
  },
  {
   "cell_type": "code",
   "execution_count": 16,
   "source": [
    "first = df[df['Year'] == 1995]['Sport'].nunique()\r\n",
    "second = df[df['Year'] == 2016]['Sport'].nunique()\r\n",
    "\r\n",
    "abs(first - second)"
   ],
   "outputs": [
    {
     "output_type": "execute_result",
     "data": {
      "text/plain": [
       "34"
      ]
     },
     "metadata": {},
     "execution_count": 16
    }
   ],
   "metadata": {}
  }
 ],
 "metadata": {
  "orig_nbformat": 4,
  "language_info": {
   "name": "python",
   "version": "3.9.7",
   "mimetype": "text/x-python",
   "codemirror_mode": {
    "name": "ipython",
    "version": 3
   },
   "pygments_lexer": "ipython3",
   "nbconvert_exporter": "python",
   "file_extension": ".py"
  },
  "kernelspec": {
   "name": "python3",
   "display_name": "Python 3.9.7 64-bit"
  },
  "interpreter": {
   "hash": "ef1233633e4834bf6cf9e56e3dc8d49e49125df3a6a6abe0c56c624c5b33942a"
  }
 },
 "nbformat": 4,
 "nbformat_minor": 2
}